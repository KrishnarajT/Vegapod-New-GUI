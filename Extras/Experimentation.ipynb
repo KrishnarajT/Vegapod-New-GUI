{
 "cells": [
  {
   "cell_type": "code",
   "execution_count": 2,
   "metadata": {},
   "outputs": [],
   "source": [
    "import matplotlib.pyplot as plt\n",
    "import pandas as pd\n",
    "import numpy as np\n",
    "import time, datetime"
   ]
  },
  {
   "cell_type": "code",
   "execution_count": 4,
   "metadata": {},
   "outputs": [
    {
     "name": "stderr",
     "output_type": "stream",
     "text": [
      "QApplication: invalid style override 'kvantum' passed, ignoring it.\n",
      "\tAvailable styles: Windows, Fusion\n"
     ]
    },
    {
     "ename": "SystemExit",
     "evalue": "0",
     "output_type": "error",
     "traceback": [
      "An exception has occurred, use %tb to see the full traceback.\n",
      "\u001b[0;31mSystemExit\u001b[0m\u001b[0;31m:\u001b[0m 0\n"
     ]
    },
    {
     "name": "stderr",
     "output_type": "stream",
     "text": [
      "/run/media/krishnaraj/Classes/University/Clubs/Vagapod/Vega_Venv/lib/python3.10/site-packages/IPython/core/interactiveshell.py:3406: UserWarning: To exit: use 'exit', 'quit', or Ctrl-D.\n",
      "  warn(\"To exit: use 'exit', 'quit', or Ctrl-D.\", stacklevel=1)\n"
     ]
    }
   ],
   "source": [
    "from PyQt5 import QtWidgets, QtCore\n",
    "from pyqtgraph import PlotWidget, plot\n",
    "import pyqtgraph as pg\n",
    "import sys  # We need sys so that we can pass argv to QApplication\n",
    "import os\n",
    "from random import randint\n",
    "\n",
    "class MainWindow(QtWidgets.QMainWindow):\n",
    "\n",
    "    def __init__(self, *args, **kwargs):\n",
    "        super(MainWindow, self).__init__(*args, **kwargs)\n",
    "\n",
    "        self.graphWidget = pg.PlotWidget()\n",
    "        self.setCentralWidget(self.graphWidget)\n",
    "\n",
    "        self.x = list(range(100))  # 100 time points\n",
    "        self.y = [randint(0,100) for _ in range(100)]  # 100 data points\n",
    "\n",
    "        self.graphWidget.setBackground('w')\n",
    "\n",
    "        pen = pg.mkPen(color=(255, 0, 0))\n",
    "        self.data_line =  self.graphWidget.plot(self.x, self.y, pen=pen)\n",
    "        self.timer = QtCore.QTimer()\n",
    "        self.timer.setInterval(50)\n",
    "        self.timer.timeout.connect(self.update_plot_data)\n",
    "        self.timer.start()\n",
    "\n",
    "    def update_plot_data(self):\n",
    "\n",
    "        self.x = self.x[1:]  # Remove the first y element.\n",
    "        self.x.append(self.x[-1] + 1)  # Add a new value 1 higher than the last.\n",
    "\n",
    "        self.y = self.y[1:]  # Remove the first\n",
    "        self.y.append( randint(0,100))  # Add a new random value.\n",
    "\n",
    "        self.data_line.setData(self.x, self.y)  # Update the data.\n",
    "\n",
    "app = QtWidgets.QApplication(sys.argv)\n",
    "w = MainWindow()\n",
    "w.show()\n",
    "sys.exit(app.exec_())"
   ]
  },
  {
   "cell_type": "code",
   "execution_count": null,
   "metadata": {},
   "outputs": [],
   "source": []
  }
 ],
 "metadata": {
  "kernelspec": {
   "display_name": "Vega_Venv",
   "language": "python",
   "name": "vega_venv"
  },
  "language_info": {
   "codemirror_mode": {
    "name": "ipython",
    "version": 3
   },
   "file_extension": ".py",
   "mimetype": "text/x-python",
   "name": "python",
   "nbconvert_exporter": "python",
   "pygments_lexer": "ipython3",
   "version": "3.10.4"
  },
  "orig_nbformat": 4
 },
 "nbformat": 4,
 "nbformat_minor": 2
}
